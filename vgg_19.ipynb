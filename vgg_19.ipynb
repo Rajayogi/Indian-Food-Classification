{
  "nbformat": 4,
  "nbformat_minor": 0,
  "metadata": {
    "colab": {
      "name": "vgg19.ipynb",
      "version": "0.3.2",
      "provenance": [],
      "collapsed_sections": [],
      "include_colab_link": true
    },
    "kernelspec": {
      "name": "python3",
      "display_name": "Python 3"
    },
    "accelerator": "GPU"
  },
  "cells": [
    {
      "cell_type": "markdown",
      "metadata": {
        "id": "view-in-github",
        "colab_type": "text"
      },
      "source": [
        "<a href=\"https://colab.research.google.com/github/Rajayogi/Indian-Food-Classification/blob/master/vgg_19.ipynb\" target=\"_parent\"><img src=\"https://colab.research.google.com/assets/colab-badge.svg\" alt=\"Open In Colab\"/></a>"
      ]
    },
    {
      "cell_type": "code",
      "metadata": {
        "id": "T25z0IXMc6u1",
        "colab_type": "code",
        "outputId": "1a517043-9b98-459b-fb3b-0a0873af2856",
        "colab": {
          "base_uri": "https://localhost:8080/",
          "height": 1105
        }
      },
      "source": [
        "import pandas as pd\n",
        "import numpy as np \n",
        "import itertools\n",
        "import keras\n",
        "from sklearn import metrics\n",
        "from sklearn.metrics import confusion_matrix\n",
        "from keras.preprocessing.image import ImageDataGenerator, img_to_array, load_img \n",
        "from keras.models import Sequential \n",
        "from keras import optimizers\n",
        "from keras.preprocessing import image\n",
        "from keras.layers import Dropout, Flatten, Dense \n",
        "from keras import applications \n",
        "from keras.utils.np_utils import to_categorical \n",
        "import matplotlib.pyplot as plt \n",
        "import matplotlib.image as mpimg\n",
        "%matplotlib inline\n",
        "\n",
        "import math \n",
        "import datetime\n",
        "import time\n",
        "import numpy as np\n",
        "from keras.preprocessing.image import ImageDataGenerator\n",
        "from keras.models import Sequential\n",
        "from keras.layers import Dropout, Flatten, Dense\n",
        "from keras import applications\n",
        "\n",
        "# dimensions of our images.\n",
        "img_width, img_height = 150, 150\n",
        "\n",
        "top_model_weights_path = 'bottleneck_fc_model.h5'\n",
        "train_data_dir = 'final/train'\n",
        "validation_data_dir = 'final/val'\n",
        "nb_train_samples = 7984\n",
        "nb_validation_samples = 2000\n",
        "epochs = 30\n",
        "batch_size = 16\n",
        "\n",
        "def save_bottlebeck_features():\n",
        "    datagen = ImageDataGenerator(rescale=1. / 255)\n",
        "    # build the VGG16 network\n",
        "    model = applications.VGG19(include_top=False, weights='imagenet')\n",
        "    generator = datagen.flow_from_directory(\n",
        "        train_data_dir,\n",
        "        target_size=(img_width, img_height),\n",
        "        batch_size=batch_size,\n",
        "        class_mode=None,\n",
        "        shuffle=False)\n",
        "\n",
        "    bottleneck_features_train = model.predict_generator(generator,nb_train_samples // batch_size)\n",
        "    np.save('bottleneck_features_train.npy',bottleneck_features_train)\n",
        "    generator = datagen.flow_from_directory(\n",
        "        validation_data_dir,\n",
        "        target_size=(img_width, img_height),\n",
        "        batch_size=batch_size,\n",
        "        class_mode=None,\n",
        "        shuffle=False)\n",
        "    bottleneck_features_validation = model.predict_generator(generator, nb_validation_samples // batch_size)\n",
        "    np.save('bottleneck_features_validation.npy',\n",
        "            bottleneck_features_validation)\n",
        "\n",
        "\n",
        "def train_top_model():\n",
        "    train_data = np.load('bottleneck_features_train.npy')\n",
        "    train_labels = np.array([0] * (nb_train_samples // 2) + [1] * (nb_train_samples // 2))\n",
        "    print(len(train_data))    \n",
        "    validation_data = np.load('bottleneck_features_validation.npy')\n",
        "    validation_labels = np.array([0] * (nb_validation_samples // 2) + [1] * (nb_validation_samples // 2))\n",
        "    \n",
        "    model = Sequential()\n",
        "    model.add(Flatten(input_shape=train_data.shape[1:]))\n",
        "    model.add(Dense(256, activation='relu'))\n",
        "    model.add(Dropout(0.5))\n",
        "    model.add(Dense(1, activation='sigmoid'))\n",
        "\n",
        "    model.compile(optimizer='adam',loss='binary_crossentropy', metrics=['accuracy'])\n",
        "    model.fit(train_data, train_labels,\n",
        "              epochs=epochs,\n",
        "              batch_size=batch_size,\n",
        "              validation_data=(validation_data, validation_labels))\n",
        "    model.save_weights(top_model_weights_path)\n",
        "    \n",
        "save_bottlebeck_features()\n",
        "train_top_model()\n"
      ],
      "execution_count": 0,
      "outputs": [
        {
          "output_type": "stream",
          "text": [
            "Found 7999 images belonging to 20 classes.\n",
            "Found 2000 images belonging to 20 classes.\n",
            "7984\n",
            "Train on 7984 samples, validate on 2000 samples\n",
            "Epoch 1/30\n",
            "7984/7984 [==============================] - 5s 622us/step - loss: 0.6768 - acc: 0.6189 - val_loss: 0.6013 - val_acc: 0.6650\n",
            "Epoch 2/30\n",
            "7984/7984 [==============================] - 3s 372us/step - loss: 0.5990 - acc: 0.6701 - val_loss: 0.5752 - val_acc: 0.6910\n",
            "Epoch 3/30\n",
            "7984/7984 [==============================] - 3s 337us/step - loss: 0.5637 - acc: 0.7067 - val_loss: 0.5546 - val_acc: 0.7005\n",
            "Epoch 4/30\n",
            "7984/7984 [==============================] - 3s 337us/step - loss: 0.5210 - acc: 0.7355 - val_loss: 0.5298 - val_acc: 0.7270\n",
            "Epoch 5/30\n",
            "7984/7984 [==============================] - 3s 340us/step - loss: 0.4967 - acc: 0.7472 - val_loss: 0.5728 - val_acc: 0.6995\n",
            "Epoch 6/30\n",
            "7984/7984 [==============================] - 3s 337us/step - loss: 0.4731 - acc: 0.7585 - val_loss: 0.5062 - val_acc: 0.7555\n",
            "Epoch 7/30\n",
            "7984/7984 [==============================] - 3s 337us/step - loss: 0.4332 - acc: 0.7858 - val_loss: 0.5084 - val_acc: 0.7500\n",
            "Epoch 8/30\n",
            "7984/7984 [==============================] - 3s 338us/step - loss: 0.4198 - acc: 0.7905 - val_loss: 0.5139 - val_acc: 0.7520\n",
            "Epoch 9/30\n",
            "7984/7984 [==============================] - 3s 338us/step - loss: 0.3968 - acc: 0.8106 - val_loss: 0.5148 - val_acc: 0.7545\n",
            "Epoch 10/30\n",
            "7984/7984 [==============================] - 3s 337us/step - loss: 0.3775 - acc: 0.8134 - val_loss: 0.5114 - val_acc: 0.7570\n",
            "Epoch 11/30\n",
            "7984/7984 [==============================] - 3s 337us/step - loss: 0.3643 - acc: 0.8188 - val_loss: 0.5473 - val_acc: 0.7330\n",
            "Epoch 12/30\n",
            "7984/7984 [==============================] - 3s 339us/step - loss: 0.3412 - acc: 0.8322 - val_loss: 0.5075 - val_acc: 0.7600\n",
            "Epoch 13/30\n",
            "7984/7984 [==============================] - 3s 338us/step - loss: 0.3126 - acc: 0.8431 - val_loss: 0.5335 - val_acc: 0.7645\n",
            "Epoch 14/30\n",
            "7984/7984 [==============================] - 3s 337us/step - loss: 0.3088 - acc: 0.8513 - val_loss: 0.5277 - val_acc: 0.7760\n",
            "Epoch 15/30\n",
            "7984/7984 [==============================] - 3s 337us/step - loss: 0.2972 - acc: 0.8551 - val_loss: 0.5708 - val_acc: 0.7695\n",
            "Epoch 16/30\n",
            "7984/7984 [==============================] - 3s 336us/step - loss: 0.2715 - acc: 0.8689 - val_loss: 0.6093 - val_acc: 0.7665\n",
            "Epoch 17/30\n",
            "7984/7984 [==============================] - 3s 339us/step - loss: 0.2900 - acc: 0.8571 - val_loss: 0.5403 - val_acc: 0.7795\n",
            "Epoch 18/30\n",
            "7984/7984 [==============================] - 3s 339us/step - loss: 0.2699 - acc: 0.8613 - val_loss: 0.5738 - val_acc: 0.7690\n",
            "Epoch 19/30\n",
            "7984/7984 [==============================] - 3s 338us/step - loss: 0.2612 - acc: 0.8712 - val_loss: 0.5945 - val_acc: 0.7850\n",
            "Epoch 20/30\n",
            "7984/7984 [==============================] - 3s 339us/step - loss: 0.2487 - acc: 0.8783 - val_loss: 0.6887 - val_acc: 0.7730\n",
            "Epoch 21/30\n",
            "7984/7984 [==============================] - 3s 339us/step - loss: 0.2386 - acc: 0.8775 - val_loss: 0.5726 - val_acc: 0.7730\n",
            "Epoch 22/30\n",
            "7984/7984 [==============================] - 3s 336us/step - loss: 0.2386 - acc: 0.8806 - val_loss: 0.5911 - val_acc: 0.7660\n",
            "Epoch 23/30\n",
            "7984/7984 [==============================] - 3s 338us/step - loss: 0.2298 - acc: 0.8858 - val_loss: 0.6286 - val_acc: 0.7750\n",
            "Epoch 24/30\n",
            "7984/7984 [==============================] - 3s 341us/step - loss: 0.2216 - acc: 0.8840 - val_loss: 0.6929 - val_acc: 0.7810\n",
            "Epoch 25/30\n",
            "7984/7984 [==============================] - 3s 341us/step - loss: 0.2016 - acc: 0.8969 - val_loss: 0.6928 - val_acc: 0.7825\n",
            "Epoch 26/30\n",
            "7984/7984 [==============================] - 3s 337us/step - loss: 0.1975 - acc: 0.8980 - val_loss: 0.7432 - val_acc: 0.7880\n",
            "Epoch 27/30\n",
            "7984/7984 [==============================] - 3s 339us/step - loss: 0.1882 - acc: 0.9072 - val_loss: 0.6411 - val_acc: 0.7790\n",
            "Epoch 28/30\n",
            "7984/7984 [==============================] - 3s 336us/step - loss: 0.1848 - acc: 0.9058 - val_loss: 0.6884 - val_acc: 0.7850\n",
            "Epoch 29/30\n",
            "7984/7984 [==============================] - 3s 375us/step - loss: 0.1902 - acc: 0.9068 - val_loss: 0.7129 - val_acc: 0.7825\n",
            "Epoch 30/30\n",
            "7984/7984 [==============================] - 3s 374us/step - loss: 0.1925 - acc: 0.9013 - val_loss: 0.7725 - val_acc: 0.7890\n"
          ],
          "name": "stdout"
        }
      ]
    },
    {
      "cell_type": "code",
      "metadata": {
        "id": "BteDuGXyzbLt",
        "colab_type": "code",
        "outputId": "6e633e69-ba11-449e-b068-363aedb99790",
        "colab": {
          "base_uri": "https://localhost:8080/",
          "height": 34
        }
      },
      "source": [
        "import os\n",
        "\n",
        "list = os.listdir('final/train/salad') # dir is your directory path\n",
        "number_files = len(list)\n",
        "print(number_files)"
      ],
      "execution_count": 0,
      "outputs": [
        {
          "output_type": "stream",
          "text": [
            "400\n"
          ],
          "name": "stdout"
        }
      ]
    }
  ]
}