{
  "nbformat": 4,
  "nbformat_minor": 0,
  "metadata": {
    "colab": {
      "name": "resnet.ipynb",
      "version": "0.3.2",
      "provenance": [],
      "include_colab_link": true
    },
    "kernelspec": {
      "name": "python3",
      "display_name": "Python 3"
    },
    "accelerator": "GPU"
  },
  "cells": [
    {
      "cell_type": "markdown",
      "metadata": {
        "id": "view-in-github",
        "colab_type": "text"
      },
      "source": [
        "<a href=\"https://colab.research.google.com/github/Rajayogi/Indian-Food-Classification/blob/master/resnet.ipynb\" target=\"_parent\"><img src=\"https://colab.research.google.com/assets/colab-badge.svg\" alt=\"Open In Colab\"/></a>"
      ]
    },
    {
      "cell_type": "code",
      "metadata": {
        "id": "Ij6mtg_omwxd",
        "colab_type": "code",
        "colab": {
          "base_uri": "https://localhost:8080/",
          "height": 110
        },
        "outputId": "9c840f41-df20-42b2-e88c-69eb9d85286c"
      },
      "source": [
        "pip install split-folders"
      ],
      "execution_count": 2,
      "outputs": [
        {
          "output_type": "stream",
          "text": [
            "Collecting split-folders\n",
            "  Downloading https://files.pythonhosted.org/packages/94/fd/29ffa8c9495eec46b17c939db2b6d0bdc6b768c1438d7b8bd0802b040d2b/split_folders-0.2.2-py3-none-any.whl\n",
            "Installing collected packages: split-folders\n",
            "Successfully installed split-folders-0.2.2\n"
          ],
          "name": "stdout"
        }
      ]
    },
    {
      "cell_type": "code",
      "metadata": {
        "id": "nBsndMPxm2ib",
        "colab_type": "code",
        "colab": {
          "base_uri": "https://localhost:8080/",
          "height": 128
        },
        "outputId": "4da5f51b-f988-4803-bd4b-d9da9fcbc225"
      },
      "source": [
        "from google.colab import drive\n",
        "drive.mount('/content/gdrive')"
      ],
      "execution_count": 3,
      "outputs": [
        {
          "output_type": "stream",
          "text": [
            "Go to this URL in a browser: https://accounts.google.com/o/oauth2/auth?client_id=947318989803-6bn6qk8qdgf4n4g3pfee6491hc0brc4i.apps.googleusercontent.com&redirect_uri=urn%3Aietf%3Awg%3Aoauth%3A2.0%3Aoob&scope=email%20https%3A%2F%2Fwww.googleapis.com%2Fauth%2Fdocs.test%20https%3A%2F%2Fwww.googleapis.com%2Fauth%2Fdrive%20https%3A%2F%2Fwww.googleapis.com%2Fauth%2Fdrive.photos.readonly%20https%3A%2F%2Fwww.googleapis.com%2Fauth%2Fpeopleapi.readonly&response_type=code\n",
            "\n",
            "Enter your authorization code:\n",
            "··········\n",
            "Mounted at /content/gdrive\n"
          ],
          "name": "stdout"
        }
      ]
    },
    {
      "cell_type": "code",
      "metadata": {
        "id": "4lOvwJqfm_jw",
        "colab_type": "code",
        "colab": {
          "base_uri": "https://localhost:8080/",
          "height": 35
        },
        "outputId": "2f603939-71aa-42df-b469-365ee3e17895"
      },
      "source": [
        "!ls \"gdrive/My Drive/indian food dataset.zip\"\n",
        "!unzip -q \"gdrive/My Drive/indian food dataset.zip\""
      ],
      "execution_count": 4,
      "outputs": [
        {
          "output_type": "stream",
          "text": [
            "'gdrive/My Drive/indian food dataset.zip'\n"
          ],
          "name": "stdout"
        }
      ]
    },
    {
      "cell_type": "code",
      "metadata": {
        "id": "We8ZgCsbnPMX",
        "colab_type": "code",
        "colab": {}
      },
      "source": [
        "import split_folders\n",
        "\n",
        "# Split with a ratio.\n",
        "# To only split into training and validation set, set a tuple to `ratio`, i.e, `(.8, .2)`.\n",
        "split_folders.ratio('indian food dataset', output=\"final\", seed=1337, ratio=(.8, .2)) # default values"
      ],
      "execution_count": 0,
      "outputs": []
    },
    {
      "cell_type": "code",
      "metadata": {
        "id": "pROL9pSUnQra",
        "colab_type": "code",
        "colab": {
          "base_uri": "https://localhost:8080/",
          "height": 72
        },
        "outputId": "61b0969d-9af8-4059-f6e9-222a42608bfd"
      },
      "source": [
        "import os\n",
        "import gc\n",
        "import numpy as np \n",
        "import pandas as pd\n",
        "import time\n",
        "from sklearn.preprocessing import OneHotEncoder\n",
        "from sklearn.model_selection import train_test_split\n",
        "from keras.preprocessing.image import ImageDataGenerator\n",
        "from keras.applications.vgg16 import VGG16 as tmodel_vgg16\n",
        "from keras.applications.xception import Xception \n",
        "from keras.applications.resnet50 import ResNet50 as resnet50\n",
        "from keras.applications.resnet50 import preprocess_input\n",
        "from keras.layers import Dropout, Flatten, Dense, GlobalAveragePooling2D,MaxPooling2D\n",
        "from keras.models import Sequential, Model \n",
        "import datetime as dt\n",
        "\n",
        "from keras.optimizers import SGD,Adam\n",
        "from keras.layers import Input,SeparableConv2D,Conv2D\n",
        "import matplotlib.pyplot as plt\n",
        "from PIL import Image\n",
        "from sklearn.preprocessing import OneHotEncoder\n",
        "import tensorflow as tf\n",
        "from keras import backend as K\n",
        "from keras.layers import MaxPool2D,concatenate\n",
        "from keras.callbacks import ModelCheckpoint,LearningRateScheduler\n",
        "from keras.callbacks import EarlyStopping,CSVLogger,ReduceLROnPlateau,TensorBoard\n",
        "from keras.layers.normalization import BatchNormalization\n",
        "from keras.utils.vis_utils import plot_model\n",
        "\n",
        "print(os.listdir(\"final\"))\n",
        "print(\"Models Loaded\")"
      ],
      "execution_count": 6,
      "outputs": [
        {
          "output_type": "stream",
          "text": [
            "Using TensorFlow backend.\n"
          ],
          "name": "stderr"
        },
        {
          "output_type": "stream",
          "text": [
            "['train', 'val']\n",
            "Models Loaded\n"
          ],
          "name": "stdout"
        }
      ]
    },
    {
      "cell_type": "code",
      "metadata": {
        "id": "gnofDRF5noBx",
        "colab_type": "code",
        "colab": {
          "base_uri": "https://localhost:8080/",
          "height": 128
        },
        "outputId": "57fced3d-1617-4e6e-e94d-36241ca3f976"
      },
      "source": [
        "batchsize=32\n",
        "imgsize=150\n",
        "height,width,channels=150,150,3\n",
        "targetsize=(150,150)\n",
        "inputshape=(150,150,3)\n",
        "batch_size=32\n",
        "seed=69\n",
        "lr = Adam(lr=1e-3)\n",
        "classes = 20\n",
        "steps = 250\n",
        "epochs = 30\n",
        "\n",
        "print(\"Model Loaded\")\n",
        "print(\"HyperParameters Ready\")"
      ],
      "execution_count": 7,
      "outputs": [
        {
          "output_type": "stream",
          "text": [
            "WARNING:tensorflow:From /usr/local/lib/python3.6/dist-packages/tensorflow/python/framework/op_def_library.py:263: colocate_with (from tensorflow.python.framework.ops) is deprecated and will be removed in a future version.\n",
            "Instructions for updating:\n",
            "Colocations handled automatically by placer.\n",
            "Model Loaded\n",
            "HyperParameters Ready\n"
          ],
          "name": "stdout"
        }
      ]
    },
    {
      "cell_type": "code",
      "metadata": {
        "id": "og2bQOtVnyC7",
        "colab_type": "code",
        "colab": {
          "base_uri": "https://localhost:8080/",
          "height": 85
        },
        "outputId": "14a7d679-24e0-4603-c588-d31d6e089478"
      },
      "source": [
        "trn_dir = 'final/train'\n",
        "val_dir = 'final/val'\n",
        "\n",
        "classes = pd.read_csv(\"classes.txt\")\n",
        "food_classes = 20\n",
        "classes"
      ],
      "execution_count": 9,
      "outputs": [
        {
          "output_type": "execute_result",
          "data": {
            "text/html": [
              "<div>\n",
              "<style scoped>\n",
              "    .dataframe tbody tr th:only-of-type {\n",
              "        vertical-align: middle;\n",
              "    }\n",
              "\n",
              "    .dataframe tbody tr th {\n",
              "        vertical-align: top;\n",
              "    }\n",
              "\n",
              "    .dataframe thead th {\n",
              "        text-align: right;\n",
              "    }\n",
              "</style>\n",
              "<table border=\"1\" class=\"dataframe\">\n",
              "  <thead>\n",
              "    <tr style=\"text-align: right;\">\n",
              "      <th></th>\n",
              "      <th>'Biryani'</th>\n",
              "      <th>'Chapati'</th>\n",
              "      <th>'Chicken_curry'</th>\n",
              "      <th>'Curd Rice'</th>\n",
              "      <th>'Dosa'</th>\n",
              "      <th>'Fried Fish'</th>\n",
              "      <th>'Fried chicken'</th>\n",
              "      <th>'Fried rice'</th>\n",
              "      <th>'Idly'</th>\n",
              "      <th>'Omelette'</th>\n",
              "      <th>'Payasam'</th>\n",
              "      <th>'Pongal'</th>\n",
              "      <th>'Puliyogare'</th>\n",
              "      <th>'Puri'</th>\n",
              "      <th>'Ragi ball'</th>\n",
              "      <th>'Sambar'</th>\n",
              "      <th>'Samosa'</th>\n",
              "      <th>'Upma'</th>\n",
              "      <th>'White rice'</th>\n",
              "      <th>'salad'</th>\n",
              "    </tr>\n",
              "  </thead>\n",
              "  <tbody>\n",
              "  </tbody>\n",
              "</table>\n",
              "</div>"
            ],
            "text/plain": [
              "Empty DataFrame\n",
              "Columns: ['Biryani', 'Chapati', 'Chicken_curry', 'Curd Rice', 'Dosa', 'Fried Fish', 'Fried chicken', 'Fried rice', 'Idly', 'Omelette', 'Payasam', 'Pongal', 'Puliyogare', 'Puri', 'Ragi ball', 'Sambar', 'Samosa', 'Upma', 'White rice', 'salad']\n",
              "Index: []"
            ]
          },
          "metadata": {
            "tags": []
          },
          "execution_count": 9
        }
      ]
    },
    {
      "cell_type": "code",
      "metadata": {
        "id": "ZQf6tdp5ppne",
        "colab_type": "code",
        "colab": {
          "base_uri": "https://localhost:8080/",
          "height": 72
        },
        "outputId": "fd6b7902-bd49-403c-842d-5c2f298009bd"
      },
      "source": [
        "trn_augs = ImageDataGenerator(preprocessing_function=preprocess_input,\n",
        "                                              horizontal_flip = True,\n",
        "                                              width_shift_range = 0.2,\n",
        "                                              height_shift_range = 0.2)\n",
        "            \n",
        "val_augs = ImageDataGenerator(preprocessing_function=preprocess_input)\n",
        "\n",
        "trn_gen = trn_augs.flow_from_directory(\n",
        "       directory = trn_dir,\n",
        "       target_size=(224,224),\n",
        "       batch_size=32,\n",
        "       class_mode='categorical')\n",
        "\n",
        "val_gen = val_augs.flow_from_directory(\n",
        "       directory = val_dir,\n",
        "       target_size=(224,224),\n",
        "       class_mode='categorical')\n",
        "print(\"Augmentation Complete\")"
      ],
      "execution_count": 10,
      "outputs": [
        {
          "output_type": "stream",
          "text": [
            "Found 7999 images belonging to 20 classes.\n",
            "Found 2000 images belonging to 20 classes.\n",
            "Augmentation Complete\n"
          ],
          "name": "stdout"
        }
      ]
    },
    {
      "cell_type": "code",
      "metadata": {
        "id": "e5mTKQLzp6oX",
        "colab_type": "code",
        "colab": {
          "base_uri": "https://localhost:8080/",
          "height": 365
        },
        "outputId": "70ec6f6d-2859-436a-acab-abee851209f5"
      },
      "source": [
        "classes = 20\n",
        "tmodel = Sequential()\n",
        "tmodel.add(resnet50(include_top=False, pooling='avg', weights='imagenet'))\n",
        "tmodel.add(Dropout(0.5))\n",
        "tmodel.add(Dense(classes, activation='softmax',name='classifier'))\n",
        "\n",
        "tmodel.layers[0].trainable = False\n",
        "tmodel.summary()"
      ],
      "execution_count": 11,
      "outputs": [
        {
          "output_type": "stream",
          "text": [
            "Downloading data from https://github.com/fchollet/deep-learning-models/releases/download/v0.2/resnet50_weights_tf_dim_ordering_tf_kernels_notop.h5\n",
            "94658560/94653016 [==============================] - 2s 0us/step\n",
            "WARNING:tensorflow:From /usr/local/lib/python3.6/dist-packages/keras/backend/tensorflow_backend.py:3445: calling dropout (from tensorflow.python.ops.nn_ops) with keep_prob is deprecated and will be removed in a future version.\n",
            "Instructions for updating:\n",
            "Please use `rate` instead of `keep_prob`. Rate should be set to `rate = 1 - keep_prob`.\n",
            "_________________________________________________________________\n",
            "Layer (type)                 Output Shape              Param #   \n",
            "=================================================================\n",
            "resnet50 (Model)             (None, 2048)              23587712  \n",
            "_________________________________________________________________\n",
            "dropout_1 (Dropout)          (None, 2048)              0         \n",
            "_________________________________________________________________\n",
            "classifier (Dense)           (None, 20)                40980     \n",
            "=================================================================\n",
            "Total params: 23,628,692\n",
            "Trainable params: 40,980\n",
            "Non-trainable params: 23,587,712\n",
            "_________________________________________________________________\n"
          ],
          "name": "stdout"
        }
      ]
    },
    {
      "cell_type": "code",
      "metadata": {
        "id": "1-uWn1zvqODv",
        "colab_type": "code",
        "colab": {
          "base_uri": "https://localhost:8080/",
          "height": 1598
        },
        "outputId": "8940b1b2-eb65-4e39-c9b7-ee74ea589877"
      },
      "source": [
        "plot_model(tmodel, to_file='model_plot.png', show_shapes=True, show_layer_names=True)\n",
        "plt.figure(figsize=(30,30))\n",
        "plt.imshow(plt.imread('model_plot.png'))\n",
        "print(\"Complete\")"
      ],
      "execution_count": 12,
      "outputs": [
        {
          "output_type": "stream",
          "text": [
            "Complete\n"
          ],
          "name": "stdout"
        },
        {
          "output_type": "display_data",
          "data": {
            "image/png": "[encoded data removed]",
            "text/plain": [
              "<Figure size 2160x2160 with 1 Axes>"
            ]
          },
          "metadata": {
            "tags": []
          }
        }
      ]
    },
    {
      "cell_type": "code",
      "metadata": {
        "id": "KuK2ojweqSRo",
        "colab_type": "code",
        "colab": {
          "base_uri": "https://localhost:8080/",
          "height": 35
        },
        "outputId": "f289b255-4499-4e35-a1b8-6473f2e14ae2"
      },
      "source": [
        "opt = SGD(lr=1e-2,decay=0.0001,momentum=0.9)\n",
        "tmodel.compile(\n",
        "    metrics=['categorical_accuracy'],\n",
        "    optimizer='sgd',\n",
        "    loss='categorical_crossentropy'\n",
        ")\n",
        "print(\"Model Compiled Ready For Training\")"
      ],
      "execution_count": 13,
      "outputs": [
        {
          "output_type": "stream",
          "text": [
            "Model Compiled Ready For Training\n"
          ],
          "name": "stdout"
        }
      ]
    },
    {
      "cell_type": "code",
      "metadata": {
        "id": "jyB52GfcqWvp",
        "colab_type": "code",
        "colab": {
          "base_uri": "https://localhost:8080/",
          "height": 35
        },
        "outputId": "63985beb-2800-4228-b7fb-c604b7893bd2"
      },
      "source": [
        "best_weights = \"/tmp/weights.hdf5\"\n",
        "checkpoint = ModelCheckpoint(\n",
        "    best_weights,\n",
        "    monitor='val_loss',\n",
        "    verbose=1,\n",
        "    save_best_only=True,\n",
        "    mode='auto',\n",
        "    save_weights_only=True,\n",
        "    period=1\n",
        ")\n",
        "earlystop = EarlyStopping(\n",
        "    monitor='val_loss',\n",
        "    min_delta=0.001,\n",
        "    patience=15,\n",
        "    verbose=1,\n",
        "    mode='auto'\n",
        ")\n",
        "tensorboard = TensorBoard(\n",
        "    log_dir = './logs',\n",
        "    histogram_freq=0,\n",
        "    batch_size=batchsize,\n",
        "    write_graph=True,\n",
        "    write_grads=True,\n",
        "    write_images=False,\n",
        ")\n",
        "reducelr = ReduceLROnPlateau(\n",
        "    monitor='val_loss',\n",
        "    factor=0.1,\n",
        "    patience=5,\n",
        "    verbose=1,\n",
        "    mode='auto',\n",
        "    min_delta=1e-3,\n",
        "    min_lr=1e-3\n",
        ")\n",
        "\n",
        "\n",
        "callbacks = [checkpoint,earlystop,tensorboard]\n",
        "print(\"CallBacks Ready!\")\n"
      ],
      "execution_count": 14,
      "outputs": [
        {
          "output_type": "stream",
          "text": [
            "CallBacks Ready!\n"
          ],
          "name": "stdout"
        }
      ]
    },
    {
      "cell_type": "code",
      "metadata": {
        "id": "31Y8rosNqfjR",
        "colab_type": "code",
        "colab": {
          "base_uri": "https://localhost:8080/",
          "height": 2237
        },
        "outputId": "01a9702a-f5fb-4446-ae84-66404ca787d4"
      },
      "source": [
        "history = tmodel.fit_generator(\n",
        "    trn_gen,\n",
        "    steps_per_epoch=250,\n",
        "    epochs=30,\n",
        "    verbose=1,\n",
        "    validation_data=val_gen,\n",
        "    validation_steps=60,\n",
        "    callbacks=callbacks\n",
        ")\n",
        "print(\"Model Trained\")"
      ],
      "execution_count": 15,
      "outputs": [
        {
          "output_type": "stream",
          "text": [
            "WARNING:tensorflow:From /usr/local/lib/python3.6/dist-packages/tensorflow/python/ops/math_ops.py:3066: to_int32 (from tensorflow.python.ops.math_ops) is deprecated and will be removed in a future version.\n",
            "Instructions for updating:\n",
            "Use tf.cast instead.\n",
            "Epoch 1/30\n",
            "250/250 [==============================] - 111s 445ms/step - loss: 2.2681 - categorical_accuracy: 0.3287 - val_loss: 1.3587 - val_categorical_accuracy: 0.6005\n",
            "\n",
            "Epoch 00001: val_loss improved from inf to 1.35867, saving model to /tmp/weights.hdf5\n",
            "Epoch 2/30\n",
            "250/250 [==============================] - 103s 413ms/step - loss: 1.4332 - categorical_accuracy: 0.5637 - val_loss: 1.2653 - val_categorical_accuracy: 0.6145\n",
            "\n",
            "Epoch 00002: val_loss improved from 1.35867 to 1.26528, saving model to /tmp/weights.hdf5\n",
            "Epoch 3/30\n",
            "250/250 [==============================] - 103s 411ms/step - loss: 1.2293 - categorical_accuracy: 0.6307 - val_loss: 1.1796 - val_categorical_accuracy: 0.6439\n",
            "\n",
            "Epoch 00003: val_loss improved from 1.26528 to 1.17959, saving model to /tmp/weights.hdf5\n",
            "Epoch 4/30\n",
            "250/250 [==============================] - 102s 409ms/step - loss: 1.1173 - categorical_accuracy: 0.6591 - val_loss: 1.2133 - val_categorical_accuracy: 0.6455\n",
            "\n",
            "Epoch 00004: val_loss did not improve from 1.17959\n",
            "Epoch 5/30\n",
            "250/250 [==============================] - 102s 407ms/step - loss: 1.0537 - categorical_accuracy: 0.6804 - val_loss: 1.1698 - val_categorical_accuracy: 0.6450\n",
            "\n",
            "Epoch 00005: val_loss improved from 1.17959 to 1.16985, saving model to /tmp/weights.hdf5\n",
            "Epoch 6/30\n",
            "250/250 [==============================] - 102s 407ms/step - loss: 0.9798 - categorical_accuracy: 0.6991 - val_loss: 1.1104 - val_categorical_accuracy: 0.6738\n",
            "\n",
            "Epoch 00006: val_loss improved from 1.16985 to 1.11041, saving model to /tmp/weights.hdf5\n",
            "Epoch 7/30\n",
            "250/250 [==============================] - 102s 407ms/step - loss: 0.9556 - categorical_accuracy: 0.7081 - val_loss: 1.0713 - val_categorical_accuracy: 0.6707\n",
            "\n",
            "Epoch 00007: val_loss improved from 1.11041 to 1.07133, saving model to /tmp/weights.hdf5\n",
            "Epoch 8/30\n",
            "250/250 [==============================] - 101s 406ms/step - loss: 0.9229 - categorical_accuracy: 0.7180 - val_loss: 1.0889 - val_categorical_accuracy: 0.6812\n",
            "\n",
            "Epoch 00008: val_loss did not improve from 1.07133\n",
            "Epoch 9/30\n",
            "250/250 [==============================] - 101s 405ms/step - loss: 0.8797 - categorical_accuracy: 0.7287 - val_loss: 1.0978 - val_categorical_accuracy: 0.6723\n",
            "\n",
            "Epoch 00009: val_loss did not improve from 1.07133\n",
            "Epoch 10/30\n",
            "250/250 [==============================] - 101s 404ms/step - loss: 0.8598 - categorical_accuracy: 0.7367 - val_loss: 1.1005 - val_categorical_accuracy: 0.6870\n",
            "\n",
            "Epoch 00010: val_loss did not improve from 1.07133\n",
            "Epoch 11/30\n",
            "250/250 [==============================] - 101s 406ms/step - loss: 0.8644 - categorical_accuracy: 0.7355 - val_loss: 1.0686 - val_categorical_accuracy: 0.6738\n",
            "\n",
            "Epoch 00011: val_loss improved from 1.07133 to 1.06861, saving model to /tmp/weights.hdf5\n",
            "Epoch 12/30\n",
            "250/250 [==============================] - 102s 406ms/step - loss: 0.8261 - categorical_accuracy: 0.7394 - val_loss: 1.0402 - val_categorical_accuracy: 0.6954\n",
            "\n",
            "Epoch 00012: val_loss improved from 1.06861 to 1.04016, saving model to /tmp/weights.hdf5\n",
            "Epoch 13/30\n",
            "250/250 [==============================] - 101s 406ms/step - loss: 0.8078 - categorical_accuracy: 0.7530 - val_loss: 1.0780 - val_categorical_accuracy: 0.6759\n",
            "\n",
            "Epoch 00013: val_loss did not improve from 1.04016\n",
            "Epoch 14/30\n",
            "250/250 [==============================] - 102s 407ms/step - loss: 0.7895 - categorical_accuracy: 0.7575 - val_loss: 1.0074 - val_categorical_accuracy: 0.7101\n",
            "\n",
            "Epoch 00014: val_loss improved from 1.04016 to 1.00744, saving model to /tmp/weights.hdf5\n",
            "Epoch 15/30\n",
            "250/250 [==============================] - 101s 406ms/step - loss: 0.7860 - categorical_accuracy: 0.7551 - val_loss: 1.0133 - val_categorical_accuracy: 0.6959\n",
            "\n",
            "Epoch 00015: val_loss did not improve from 1.00744\n",
            "Epoch 16/30\n",
            "250/250 [==============================] - 101s 404ms/step - loss: 0.7693 - categorical_accuracy: 0.7627 - val_loss: 1.0561 - val_categorical_accuracy: 0.6922\n",
            "\n",
            "Epoch 00016: val_loss did not improve from 1.00744\n",
            "Epoch 17/30\n",
            "250/250 [==============================] - 101s 406ms/step - loss: 0.7621 - categorical_accuracy: 0.7660 - val_loss: 1.0773 - val_categorical_accuracy: 0.6907\n",
            "\n",
            "Epoch 00017: val_loss did not improve from 1.00744\n",
            "Epoch 18/30\n",
            "250/250 [==============================] - 102s 406ms/step - loss: 0.7435 - categorical_accuracy: 0.7712 - val_loss: 1.0582 - val_categorical_accuracy: 0.6970\n",
            "\n",
            "Epoch 00018: val_loss did not improve from 1.00744\n",
            "Epoch 19/30\n",
            "250/250 [==============================] - 101s 405ms/step - loss: 0.7402 - categorical_accuracy: 0.7682 - val_loss: 1.0226 - val_categorical_accuracy: 0.6970\n",
            "\n",
            "Epoch 00019: val_loss did not improve from 1.00744\n",
            "Epoch 20/30\n",
            "250/250 [==============================] - 101s 405ms/step - loss: 0.7533 - categorical_accuracy: 0.7655 - val_loss: 1.0428 - val_categorical_accuracy: 0.7064\n",
            "\n",
            "Epoch 00020: val_loss did not improve from 1.00744\n",
            "Epoch 21/30\n",
            "250/250 [==============================] - 101s 405ms/step - loss: 0.7268 - categorical_accuracy: 0.7741 - val_loss: 1.0266 - val_categorical_accuracy: 0.7075\n",
            "\n",
            "Epoch 00021: val_loss did not improve from 1.00744\n",
            "Epoch 22/30\n",
            "250/250 [==============================] - 101s 405ms/step - loss: 0.7278 - categorical_accuracy: 0.7737 - val_loss: 1.0084 - val_categorical_accuracy: 0.7120\n",
            "\n",
            "Epoch 00022: val_loss did not improve from 1.00744\n",
            "Epoch 23/30\n",
            "250/250 [==============================] - 101s 405ms/step - loss: 0.7247 - categorical_accuracy: 0.7716 - val_loss: 1.0491 - val_categorical_accuracy: 0.7043\n",
            "\n",
            "Epoch 00023: val_loss did not improve from 1.00744\n",
            "Epoch 24/30\n",
            "250/250 [==============================] - 102s 407ms/step - loss: 0.7254 - categorical_accuracy: 0.7698 - val_loss: 1.0221 - val_categorical_accuracy: 0.7096\n",
            "\n",
            "Epoch 00024: val_loss did not improve from 1.00744\n",
            "Epoch 25/30\n",
            "250/250 [==============================] - 101s 406ms/step - loss: 0.7096 - categorical_accuracy: 0.7820 - val_loss: 1.1569 - val_categorical_accuracy: 0.6770\n",
            "\n",
            "Epoch 00025: val_loss did not improve from 1.00744\n",
            "Epoch 26/30\n",
            "250/250 [==============================] - 102s 407ms/step - loss: 0.7070 - categorical_accuracy: 0.7814 - val_loss: 1.0447 - val_categorical_accuracy: 0.7069\n",
            "\n",
            "Epoch 00026: val_loss did not improve from 1.00744\n",
            "Epoch 27/30\n",
            "250/250 [==============================] - 102s 406ms/step - loss: 0.6920 - categorical_accuracy: 0.7804 - val_loss: 1.0367 - val_categorical_accuracy: 0.7101\n",
            "\n",
            "Epoch 00027: val_loss did not improve from 1.00744\n",
            "Epoch 28/30\n",
            "250/250 [==============================] - 102s 406ms/step - loss: 0.6942 - categorical_accuracy: 0.7826 - val_loss: 1.0186 - val_categorical_accuracy: 0.7111\n",
            "\n",
            "Epoch 00028: val_loss did not improve from 1.00744\n",
            "Epoch 29/30\n",
            "250/250 [==============================] - 102s 406ms/step - loss: 0.6804 - categorical_accuracy: 0.7841 - val_loss: 1.0804 - val_categorical_accuracy: 0.6991\n",
            "\n",
            "Epoch 00029: val_loss did not improve from 1.00744\n",
            "Epoch 00029: early stopping\n",
            "Model Trained\n"
          ],
          "name": "stdout"
        }
      ]
    }
  ]
}